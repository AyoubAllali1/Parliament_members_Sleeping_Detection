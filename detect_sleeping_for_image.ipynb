{
 "cells": [
  {
   "cell_type": "code",
   "execution_count": null,
   "metadata": {
    "colab": {
     "base_uri": "https://localhost:8080/"
    },
    "id": "Ae82cWy0FMb8",
    "outputId": "3cb5e57e-27d2-4cea-8c66-b5bef132bdd4"
   },
   "outputs": [
    {
     "name": "stdout",
     "output_type": "stream",
     "text": [
      "--2022-03-08 17:38:42--  http://dlib.net/files/shape_predictor_68_face_landmarks.dat.bz2\n",
      "Resolving dlib.net (dlib.net)... 107.180.26.78\n",
      "Connecting to dlib.net (dlib.net)|107.180.26.78|:80... connected.\n",
      "HTTP request sent, awaiting response... 200 OK\n",
      "Length: 64040097 (61M)\n",
      "Saving to: ‘shape_predictor_68_face_landmarks.dat.bz2’\n",
      "\n",
      "shape_predictor_68_ 100%[===================>]  61.07M  52.3MB/s    in 1.2s    \n",
      "\n",
      "2022-03-08 17:38:44 (52.3 MB/s) - ‘shape_predictor_68_face_landmarks.dat.bz2’ saved [64040097/64040097]\n",
      "\n"
     ]
    }
   ],
   "source": [
    "!wget   http://dlib.net/files/shape_predictor_68_face_landmarks.dat.bz2"
   ]
  },
  {
   "cell_type": "code",
   "execution_count": null,
   "metadata": {
    "id": "I81k2jkrFxwa"
   },
   "outputs": [],
   "source": [
    "!bunzip2 /content/shape_predictor_68_face_landmarks.dat.bz2\n",
    "\n",
    "datFile =  \"/content/shape_predictor_68_face_landmarks.dat\""
   ]
  },
  {
   "cell_type": "code",
   "execution_count": null,
   "metadata": {
    "id": "Lt_jQWB3F345"
   },
   "outputs": [],
   "source": [
    "import cv2\n",
    "import numpy as np\n",
    "import dlib\n",
    "from imutils import face_utils"
   ]
  },
  {
   "cell_type": "code",
   "execution_count": null,
   "metadata": {
    "id": "PMxxKD7xF8Gq"
   },
   "outputs": [],
   "source": [
    "from google.colab.patches import cv2_imshow"
   ]
  },
  {
   "cell_type": "code",
   "execution_count": null,
   "metadata": {
    "id": "_RNh6IUYF_Mc"
   },
   "outputs": [],
   "source": [
    "def distance(ptA,ptB):\n",
    "\tdist = np.linalg.norm(ptA - ptB)\n",
    "\treturn dist\n",
    "\n",
    "def eye_AR(a,b,c,d,e,f):\n",
    "\tup = distance(b,d) + distance(c,e)\n",
    "\tdown = distance(a,f)\n",
    "\tratio = up/(2.0*down)\n",
    "\n",
    "\t#Checking if it is blinked\n",
    "\tif(ratio>0.25):\n",
    "\t\treturn 2\n",
    "\telif(ratio>0.21 and ratio<=0.25):\n",
    "\t\treturn 1\n",
    "\telse:\n",
    "\t\treturn 0\n"
   ]
  },
  {
   "cell_type": "code",
   "execution_count": null,
   "metadata": {
    "id": "TE1Q43grGF7x"
   },
   "outputs": [],
   "source": [
    "frame = cv2.imread('image1.jpg')\n",
    "\n",
    "\n",
    "detector = dlib.get_frontal_face_detector()\n",
    "predictor = dlib.shape_predictor(datFile)\n",
    "\n",
    "gray = cv2.cvtColor(frame, cv2.COLOR_BGR2GRAY)\n",
    "faces = detector(gray)"
   ]
  },
  {
   "cell_type": "code",
   "execution_count": null,
   "metadata": {
    "colab": {
     "base_uri": "https://localhost:8080/",
     "height": 1000
    },
    "id": "JQfp5CPoGMjf",
    "outputId": "a7f6501d-4ac9-4315-b6fa-85f87e01022a"
   },
   "outputs": [],
   "source": [
    "for face in faces:\n",
    "  x1 = face.left()\n",
    "  y1 = face.top()\n",
    "  x2 = face.right()\n",
    "  y2 = face.bottom()\n",
    "\n",
    "  cv2.rectangle(frame, (x1, y1), (x2, y2), (0, 255, 0), 2)\n",
    "  \n",
    "  landmarks = predictor(gray, face)\n",
    "  landmarks = face_utils.shape_to_np(landmarks)\n",
    "\n",
    "\n",
    "  left_eye = eye_AR(landmarks[36],landmarks[37],landmarks[38], landmarks[41], landmarks[40], landmarks[39])\n",
    "  right_eye = eye_AR(landmarks[42],landmarks[43],landmarks[44], landmarks[47], landmarks[46], landmarks[45])\n",
    "\n",
    "  if(left_eye==0 and right_eye==0):\n",
    "    status=\"Na3ss\"\n",
    "    color = (0,0,255)\n",
    "\n",
    "  elif (left_eye==1 and right_eye==1):\n",
    "    status=\"Fih n3ass\"\n",
    "    color = (255,0,0)\n",
    "\n",
    "  else:\n",
    "    status=\"Fay9\"\n",
    "    color = (0,255,0)\n",
    "\n",
    "  cv2.putText(frame, status, (x1, y1-2),cv2.FONT_HERSHEY_SIMPLEX, 10, color ,2)\n",
    "\n",
    "  for n in range(0, 68):\n",
    "    (x,y) = landmarks[n]\n",
    "    cv2.circle(frame, (x, y), 5, (255, 255, 255), 6)\n",
    "\n",
    "\n",
    "cv2_imshow(frame)"
   ]
  }
 ],
 "metadata": {
  "language_info": {
   "name": "python"
  },
  "orig_nbformat": 4
 },
 "nbformat": 4,
 "nbformat_minor": 2
}
