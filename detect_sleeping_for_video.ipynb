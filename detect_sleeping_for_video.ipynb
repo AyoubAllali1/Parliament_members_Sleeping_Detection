{
 "cells": [
  {
   "cell_type": "code",
   "execution_count": null,
   "metadata": {
    "colab": {
     "base_uri": "https://localhost:8080/"
    },
    "id": "v_fPWRdrpoi_",
    "outputId": "7c2d1dd5-2396-4e52-c5fe-f801f7c722be"
   },
   "outputs": [
    {
     "name": "stdout",
     "output_type": "stream",
     "text": [
      "--2022-03-08 17:50:15--  http://dlib.net/files/shape_predictor_68_face_landmarks.dat.bz2\n",
      "Resolving dlib.net (dlib.net)... 107.180.26.78\n",
      "Connecting to dlib.net (dlib.net)|107.180.26.78|:80... connected.\n",
      "HTTP request sent, awaiting response... 200 OK\n",
      "Length: 64040097 (61M)\n",
      "Saving to: ‘shape_predictor_68_face_landmarks.dat.bz2’\n",
      "\n",
      "shape_predictor_68_ 100%[===================>]  61.07M  75.0MB/s    in 0.8s    \n",
      "\n",
      "2022-03-08 17:50:16 (75.0 MB/s) - ‘shape_predictor_68_face_landmarks.dat.bz2’ saved [64040097/64040097]\n",
      "\n"
     ]
    }
   ],
   "source": [
    "!wget   http://dlib.net/files/shape_predictor_68_face_landmarks.dat.bz2"
   ]
  },
  {
   "cell_type": "code",
   "execution_count": null,
   "metadata": {
    "id": "bLjG5qCopq-t"
   },
   "outputs": [],
   "source": [
    "!bunzip2 /content/shape_predictor_68_face_landmarks.dat.bz2\n",
    "\n",
    "datFile =  \"/content/shape_predictor_68_face_landmarks.dat\""
   ]
  },
  {
   "cell_type": "code",
   "execution_count": null,
   "metadata": {
    "id": "EhOzhGpgD4Ew"
   },
   "outputs": [],
   "source": [
    "import cv2\n",
    "import numpy as np\n",
    "import dlib\n",
    "from imutils import face_utils"
   ]
  },
  {
   "cell_type": "code",
   "execution_count": null,
   "metadata": {
    "id": "zVNQn0ASEAhL"
   },
   "outputs": [],
   "source": [
    "from google.colab.patches import cv2_imshow"
   ]
  },
  {
   "cell_type": "code",
   "execution_count": null,
   "metadata": {
    "id": "dEtDvQTpEEFj"
   },
   "outputs": [],
   "source": [
    "def distance(ptA,ptB):\n",
    "\tdist = np.linalg.norm(ptA - ptB)\n",
    "\treturn dist\n",
    "\n",
    "def eye_AR(a,b,c,d,e,f):\n",
    "\tup = distance(b,d) + distance(c,e)\n",
    "\tdown = distance(a,f)\n",
    "\tratio = up/(2.0*down)\n",
    "\n",
    "\n",
    "\tif(ratio>0.25):\n",
    "\t\treturn 2\n",
    "\telif(ratio>0.21 and ratio<=0.25):\n",
    "\t\treturn 1\n",
    "\telse:\n",
    "\t\treturn 0"
   ]
  },
  {
   "cell_type": "code",
   "execution_count": null,
   "metadata": {
    "colab": {
     "base_uri": "https://localhost:8080/",
     "height": 252
    },
    "id": "wv6PB-7VEIzi",
    "outputId": "ff989c27-9eb6-40ba-dd57-4df7a624e20e"
   },
   "outputs": [],
   "source": [
    "cap = cv2.VideoCapture('video1.mp4')  #enter '0' for start the camera of your computer\n",
    "\n",
    "detector = dlib.get_frontal_face_detector()\n",
    "predictor = dlib.shape_predictor(datFile)\n",
    "\n",
    "#compteurs\n",
    "sleep = 0\n",
    "drowsy = 0\n",
    "active = 0\n",
    "\n",
    "\n",
    "while True:\n",
    "  _, frame = cap.read()\n",
    "  gray = cv2.cvtColor(frame, cv2.COLOR_BGR2GRAY)\n",
    "  faces = detector(frame)\n",
    " \n",
    "  for face in faces:\n",
    "    x1 = face.left()\n",
    "    y1 = face.top()\n",
    "    x2 = face.right()\n",
    "    y2 = face.bottom()\n",
    "    \n",
    "    cv2.rectangle(frame, (x1, y1), (x2, y2), (0, 0, 255), 2)\n",
    "\n",
    "    landmarks = predictor(gray, face)\n",
    "    landmarks = face_utils.shape_to_np(landmarks)\n",
    "\n",
    "    left_eye = eye_AR(landmarks[36],landmarks[37],landmarks[38], landmarks[41], landmarks[40], landmarks[39])\n",
    "    right_eye = eye_AR(landmarks[42],landmarks[43],landmarks[44], landmarks[47], landmarks[46], landmarks[45])\n",
    "        \n",
    "\n",
    "    if(left_eye==0 or right_eye==0):\n",
    "      sleep+=1\n",
    "      drowsy=0\n",
    "      active=0\n",
    "      if(sleep>6):\n",
    "        status=\"Na3ss\"\n",
    "        color = (255,0,0)\n",
    "\n",
    "    elif(left_eye==1 or right_eye==1):\n",
    "      sleep=0\n",
    "      active=0\n",
    "      drowsy+=1\n",
    "      if(drowsy>6):\n",
    "        status=\"Fih n3ass\"\n",
    "        color = (0,0,255)\n",
    "\n",
    "    else:\n",
    "      drowsy=0\n",
    "      sleep=0\n",
    "      active+=1\n",
    "      if(active>6):\n",
    "        status=\"Fay9\"\n",
    "        color = (0,255,0)\n",
    "        \t\n",
    "    cv2.putText(frame, status, (x1, y1-2), cv2.FONT_HERSHEY_SIMPLEX, 1.2, color,3)\n",
    "\n",
    "    for n in range(0, 68):\n",
    "      (x,y) = landmarks[n]\n",
    "      cv2.circle(frame, (x, y), 1, (255, 255, 255), -1)\n",
    "\n",
    "cv2_imshow(frame)"
   ]
  }
 ],
 "metadata": {
  "language_info": {
   "name": "python"
  },
  "orig_nbformat": 4
 },
 "nbformat": 4,
 "nbformat_minor": 2
}
